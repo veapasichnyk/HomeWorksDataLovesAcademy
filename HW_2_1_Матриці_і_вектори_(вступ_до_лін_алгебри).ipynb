{
  "nbformat": 4,
  "nbformat_minor": 0,
  "metadata": {
    "colab": {
      "provenance": [],
      "include_colab_link": true
    },
    "kernelspec": {
      "name": "python3",
      "display_name": "Python 3"
    },
    "language_info": {
      "name": "python"
    }
  },
  "cells": [
    {
      "cell_type": "markdown",
      "metadata": {
        "id": "view-in-github",
        "colab_type": "text"
      },
      "source": [
        "<a href=\"https://colab.research.google.com/github/veapasichnyk/HomeWorksDataLovesAcademy/blob/main/HW_2_1_%D0%9C%D0%B0%D1%82%D1%80%D0%B8%D1%86%D1%96_%D1%96_%D0%B2%D0%B5%D0%BA%D1%82%D0%BE%D1%80%D0%B8_(%D0%B2%D1%81%D1%82%D1%83%D0%BF_%D0%B4%D0%BE_%D0%BB%D1%96%D0%BD_%D0%B0%D0%BB%D0%B3%D0%B5%D0%B1%D1%80%D0%B8).ipynb\" target=\"_parent\"><img src=\"https://colab.research.google.com/assets/colab-badge.svg\" alt=\"Open In Colab\"/></a>"
      ]
    },
    {
      "cell_type": "code",
      "source": [
        "import numpy as np"
      ],
      "metadata": {
        "id": "HrQ2fEj8OLrZ"
      },
      "execution_count": 1,
      "outputs": []
    },
    {
      "cell_type": "markdown",
      "source": [
        "### Завдання 1: Створення матриць та векторів\n",
        "1. Створіть `numpy` вектор `vector` розмірністю 10 з випадковими дійсними значеннями в діапазоні від 0 до 1. Можна скористатись двома альтернативними варіантами:\n",
        "  1. Генерація випадкових чисел з модулем [`random.uniform`](https://docs.python.org/3/library/random.html).\n",
        "  2. Створення вектора з допомогою метода `numpy` [np.random.rand](https://numpy.org/doc/stable/reference/random/generated/numpy.random.rand.html)\n",
        "\n",
        "2. Створіть матрицю `matrix` типу `numpy.array` розмірності 3x3 з наступними значеннями\n",
        "\n",
        "  $$\n",
        "  matrix = \\begin{bmatrix}\n",
        "  11 & 14 & 17 \\\\\n",
        "  20 & 23 & 26 \\\\\n",
        "  29 & 32 & 35\n",
        "  \\end{bmatrix}\n",
        "  $$\n",
        "\n",
        "  будь-яким відомими Вам способом.\n",
        "\n",
        "Виведіть на екран вектор і матрицю, а також їх розміри.\n"
      ],
      "metadata": {
        "id": "efug1V4CM0lT"
      }
    },
    {
      "cell_type": "code",
      "source": [
        "#Створіть numpy вектор vector розмірністю 10\n",
        "vector = np.random.rand(10)\n",
        "print(vector)"
      ],
      "metadata": {
        "id": "jxA_lG2_VIMe",
        "colab": {
          "base_uri": "https://localhost:8080/"
        },
        "outputId": "f64e476a-0b5d-457b-fbe7-94defa6b4f02"
      },
      "execution_count": 2,
      "outputs": [
        {
          "output_type": "stream",
          "name": "stdout",
          "text": [
            "[0.88577443 0.68026318 0.55356107 0.49040385 0.79359324 0.34608983\n",
            " 0.76557096 0.16586069 0.00257371 0.11218181]\n"
          ]
        }
      ]
    },
    {
      "cell_type": "code",
      "source": [
        "matrix = np.array([\n",
        "    [11, 20, 29],\n",
        "    [14, 23, 32],\n",
        "    [17, 26, 35]\n",
        "])\n",
        "\n",
        "print(matrix)"
      ],
      "metadata": {
        "colab": {
          "base_uri": "https://localhost:8080/"
        },
        "id": "5jU7OfJ-OhEB",
        "outputId": "5aed8153-8d32-4f5f-ea43-82e52c9cfc05"
      },
      "execution_count": 3,
      "outputs": [
        {
          "output_type": "stream",
          "name": "stdout",
          "text": [
            "[[11 20 29]\n",
            " [14 23 32]\n",
            " [17 26 35]]\n"
          ]
        }
      ]
    },
    {
      "cell_type": "code",
      "source": [
        "vector.shape, matrix.shape"
      ],
      "metadata": {
        "colab": {
          "base_uri": "https://localhost:8080/"
        },
        "id": "17L7BlrQOyZc",
        "outputId": "22cbb106-4680-4f13-b1b5-14c6901cbf86"
      },
      "execution_count": 4,
      "outputs": [
        {
          "output_type": "execute_result",
          "data": {
            "text/plain": [
              "((10,), (3, 3))"
            ]
          },
          "metadata": {},
          "execution_count": 4
        }
      ]
    },
    {
      "cell_type": "markdown",
      "source": [
        "\n",
        "### Завдання 2: Операції над векторами та матрицями\n",
        "Виконайте кожну з зазначених операцій над зазначеними оʼєктами і виведіть результат на екран:\n",
        "1. Додайте до кожного значення вектора `vector` число 10 і округліть кожне значення до 2 знаків після коми без використання циклів.\n",
        "2. Помножте кожен елемент матриці з першого завдання на 2 без використання циклів.\n",
        "3. Створіть новий вектор, який містить квадрат кожного `vector` без циклів.\n"
      ],
      "metadata": {
        "id": "TSJ1P4OuOVe2"
      }
    },
    {
      "cell_type": "code",
      "source": [
        "# Додавання 10 і округлення до 2 знаків\n",
        "vector = np.round(vector + 10, 2)\n",
        "\n",
        "print(vector)"
      ],
      "metadata": {
        "id": "nAAojtyUVJXN",
        "colab": {
          "base_uri": "https://localhost:8080/"
        },
        "outputId": "802b3a08-3225-4cc6-c19c-2be688e0492f"
      },
      "execution_count": 5,
      "outputs": [
        {
          "output_type": "stream",
          "name": "stdout",
          "text": [
            "[10.89 10.68 10.55 10.49 10.79 10.35 10.77 10.17 10.   10.11]\n"
          ]
        }
      ]
    },
    {
      "cell_type": "code",
      "source": [
        "# Множення на 2\n",
        "matrix = matrix * 2\n",
        "\n",
        "print(matrix)"
      ],
      "metadata": {
        "colab": {
          "base_uri": "https://localhost:8080/"
        },
        "id": "WQdpsTX5PVIg",
        "outputId": "e83082fb-278f-4a84-c143-f04c81556761"
      },
      "execution_count": 6,
      "outputs": [
        {
          "output_type": "stream",
          "name": "stdout",
          "text": [
            "[[22 40 58]\n",
            " [28 46 64]\n",
            " [34 52 70]]\n"
          ]
        }
      ]
    },
    {
      "cell_type": "code",
      "source": [
        "# Створення нового вектора з квадратами\n",
        "squared_vector = vector ** 2\n",
        "\n",
        "print(squared_vector)"
      ],
      "metadata": {
        "colab": {
          "base_uri": "https://localhost:8080/"
        },
        "id": "9iJErENTPrju",
        "outputId": "cb9fdb3c-a8ab-4bc0-c542-a10a4c8d5297"
      },
      "execution_count": 7,
      "outputs": [
        {
          "output_type": "stream",
          "name": "stdout",
          "text": [
            "[118.5921 114.0624 111.3025 110.0401 116.4241 107.1225 115.9929 103.4289\n",
            " 100.     102.2121]\n"
          ]
        }
      ]
    },
    {
      "cell_type": "markdown",
      "source": [
        "\n",
        "### Завдання 3: Множення матриць\n",
        "1. Задані дві матриці `A` і `B`розмірностями 3x2 та 2х3. Виконайте їхнє множення, щоб отримати матрицю 2x2. Виведіть результуючу матрицю `result_matrix` на екран.\n",
        "\n",
        "2. Заданий вектор `C` розмірністю 2х1. Подумайте спочатку, яку розмірність Ви отрмаєте, коли домножите `result_matrix` на вектор `C` і який результат буде. А потім виконайте множення і виведіть результат на екран.\n",
        "\n",
        "3. Задана матриця `D` розмірністю 2х2. Подумайте спочатку, яку розмірність Ви отрмаєте, коли домножите `result_matrix` на матрицю `D` і який результат буде. А потім виконайте множення і виведіть результат на екран."
      ],
      "metadata": {
        "id": "u6RvWVfhPy-k"
      }
    },
    {
      "cell_type": "code",
      "source": [
        "A = np.array(\n",
        "    [[0.18, 0.53],\n",
        "     [0.75, 0.47],\n",
        "     [0.35, 0.21]])\n",
        "\n",
        "B = np.array(\n",
        "    [[0.17, 0.58, 0.75],\n",
        "     [0.38, 0.11, 0.15]])\n",
        "\n",
        "C = np.array([[0], [1]])\n",
        "\n",
        "D = np.array([[0,1], [1,0]])\n",
        "\n",
        "display(A, B, C, D)"
      ],
      "metadata": {
        "id": "RwXfPzlbSJ44",
        "colab": {
          "base_uri": "https://localhost:8080/",
          "height": 173
        },
        "outputId": "6cc1e8a4-9832-4de8-a899-c62046f329cc"
      },
      "execution_count": 8,
      "outputs": [
        {
          "output_type": "display_data",
          "data": {
            "text/plain": [
              "array([[0.18, 0.53],\n",
              "       [0.75, 0.47],\n",
              "       [0.35, 0.21]])"
            ]
          },
          "metadata": {}
        },
        {
          "output_type": "display_data",
          "data": {
            "text/plain": [
              "array([[0.17, 0.58, 0.75],\n",
              "       [0.38, 0.11, 0.15]])"
            ]
          },
          "metadata": {}
        },
        {
          "output_type": "display_data",
          "data": {
            "text/plain": [
              "array([[0],\n",
              "       [1]])"
            ]
          },
          "metadata": {}
        },
        {
          "output_type": "display_data",
          "data": {
            "text/plain": [
              "array([[0, 1],\n",
              "       [1, 0]])"
            ]
          },
          "metadata": {}
        }
      ]
    },
    {
      "cell_type": "code",
      "source": [
        "# Множення матриць\n",
        "result_matrix = np.dot(A.T, B.T)\n",
        "\n",
        "print(result_matrix)"
      ],
      "metadata": {
        "id": "z7-boTbhVKkj",
        "colab": {
          "base_uri": "https://localhost:8080/"
        },
        "outputId": "3ffcdf68-4185-43d7-8aa4-7dfd26dd5cab"
      },
      "execution_count": 9,
      "outputs": [
        {
          "output_type": "stream",
          "name": "stdout",
          "text": [
            "[[0.7281 0.2034]\n",
            " [0.5202 0.2846]]\n"
          ]
        }
      ]
    },
    {
      "cell_type": "code",
      "source": [
        "#множення матриці на вектор\n",
        "result_matrix_v = np.dot(result_matrix, C)\n",
        "\n",
        "print(result_matrix_v)"
      ],
      "metadata": {
        "colab": {
          "base_uri": "https://localhost:8080/"
        },
        "id": "rr44UVytRv9l",
        "outputId": "b0e37703-0820-484e-b9fb-f2def2a6a8dc"
      },
      "execution_count": 10,
      "outputs": [
        {
          "output_type": "stream",
          "name": "stdout",
          "text": [
            "[[0.2034]\n",
            " [0.2846]]\n"
          ]
        }
      ]
    },
    {
      "cell_type": "code",
      "source": [
        "# Множення на матрицю D\n",
        "result_matrix_m = np.dot(result_matrix, D)\n",
        "\n",
        "print(result_matrix_m)"
      ],
      "metadata": {
        "colab": {
          "base_uri": "https://localhost:8080/"
        },
        "id": "gpjRVfFDSXm9",
        "outputId": "cea83845-ffb2-49cb-9995-a49b965f3060"
      },
      "execution_count": 11,
      "outputs": [
        {
          "output_type": "stream",
          "name": "stdout",
          "text": [
            "[[0.2034 0.7281]\n",
            " [0.2846 0.5202]]\n"
          ]
        }
      ]
    },
    {
      "cell_type": "markdown",
      "source": [
        "\n",
        "### Завдання 4: Транспонування матриць\n",
        "1. Транспонуйте `result_matrix`.\n",
        "2. Зробіть транспонування вектора `vector` і виведіть форму нової структури. Чи бачите ви зміну?\n",
        "3. Використайте операцію `numpy.expand_dims` над вектором `vector` з аргументом axis=1. Запишіть отриманий результат в змінну `column_vector` і виведіть на екран. Порівняйте з `vector`.\n",
        "4. Зробіть транспонування `column_vector`, виведіть результат на екран разом з розмірностями отриманої структури.\n",
        "\n",
        "\n"
      ],
      "metadata": {
        "id": "wohp0_cxSGpl"
      }
    },
    {
      "cell_type": "code",
      "source": [
        "#Транспонування матриці\n",
        "result_matrix_t = result_matrix.T\n",
        "\n",
        "print(result_matrix_t)"
      ],
      "metadata": {
        "id": "4hFcq1baVLii",
        "colab": {
          "base_uri": "https://localhost:8080/"
        },
        "outputId": "c567a9cb-4783-4ac0-a784-29db493f83d0"
      },
      "execution_count": 12,
      "outputs": [
        {
          "output_type": "stream",
          "name": "stdout",
          "text": [
            "[[0.7281 0.5202]\n",
            " [0.2034 0.2846]]\n"
          ]
        }
      ]
    },
    {
      "cell_type": "code",
      "source": [
        "#Транспонування вектора\n",
        "vector_t = vector.T\n",
        "\n",
        "print(\"vector T:\")\n",
        "print(vector_t)\n",
        "print(\"shape:\", vector_t.shape)\n"
      ],
      "metadata": {
        "colab": {
          "base_uri": "https://localhost:8080/"
        },
        "id": "8Ji95VNVTZD_",
        "outputId": "06b775fc-6847-4457-bdc6-1d9ed768ebe1"
      },
      "execution_count": 13,
      "outputs": [
        {
          "output_type": "stream",
          "name": "stdout",
          "text": [
            "vector T:\n",
            "[10.89 10.68 10.55 10.49 10.79 10.35 10.77 10.17 10.   10.11]\n",
            "shape: (10,)\n"
          ]
        }
      ]
    },
    {
      "cell_type": "markdown",
      "source": [
        "**Пояснення**\n",
        "\n",
        "vector не має жодної \"другої осі\" (shape: (10,)), тому при виклику vector.T — нічого не змінюється."
      ],
      "metadata": {
        "id": "rLIPJa_DVeZ8"
      }
    },
    {
      "cell_type": "code",
      "source": [
        "# Розширення розмірності вектора по осі 1\n",
        "column_vector = np.expand_dims(vector, axis=1)\n",
        "\n",
        "print(\"vector:\")\n",
        "print(vector)\n",
        "print(\"shape:\", vector.shape)\n",
        "\n",
        "print(\"\\ncolumn_vector:\")\n",
        "print(column_vector)\n",
        "print(\"shape:\", column_vector.shape)"
      ],
      "metadata": {
        "colab": {
          "base_uri": "https://localhost:8080/"
        },
        "id": "vnHnhnbwUdcK",
        "outputId": "6cac8956-30d3-47b0-9c69-cda57f16ff80"
      },
      "execution_count": 14,
      "outputs": [
        {
          "output_type": "stream",
          "name": "stdout",
          "text": [
            "vector:\n",
            "[10.89 10.68 10.55 10.49 10.79 10.35 10.77 10.17 10.   10.11]\n",
            "shape: (10,)\n",
            "\n",
            "column_vector:\n",
            "[[10.89]\n",
            " [10.68]\n",
            " [10.55]\n",
            " [10.49]\n",
            " [10.79]\n",
            " [10.35]\n",
            " [10.77]\n",
            " [10.17]\n",
            " [10.  ]\n",
            " [10.11]]\n",
            "shape: (10, 1)\n"
          ]
        }
      ]
    },
    {
      "cell_type": "markdown",
      "source": [
        "**Пояснення**\n",
        "\n",
        "Ми перетворили наш одновимірний рядок vector (shape: (10,)) на двовимірний стовпчик column_vector (shape: (10, 1))."
      ],
      "metadata": {
        "id": "YtS5TLC4XBQf"
      }
    },
    {
      "cell_type": "code",
      "source": [
        "# Транспонування\n",
        "column_vector_t = column_vector.T\n",
        "\n",
        "# Виведення\n",
        "print(\"column_vector:\")\n",
        "print(column_vector)\n",
        "print(\"shape:\", column_vector.shape)\n",
        "\n",
        "print(\"\\ntransposed column_vector:\")\n",
        "print(column_vector_t)\n",
        "print(\"shape:\", column_vector_t.shape)"
      ],
      "metadata": {
        "colab": {
          "base_uri": "https://localhost:8080/"
        },
        "id": "gb7bxxuiVIxg",
        "outputId": "a12ed978-5d09-4f0c-980e-a3da3d0be006"
      },
      "execution_count": 15,
      "outputs": [
        {
          "output_type": "stream",
          "name": "stdout",
          "text": [
            "column_vector:\n",
            "[[10.89]\n",
            " [10.68]\n",
            " [10.55]\n",
            " [10.49]\n",
            " [10.79]\n",
            " [10.35]\n",
            " [10.77]\n",
            " [10.17]\n",
            " [10.  ]\n",
            " [10.11]]\n",
            "shape: (10, 1)\n",
            "\n",
            "transposed column_vector:\n",
            "[[10.89 10.68 10.55 10.49 10.79 10.35 10.77 10.17 10.   10.11]]\n",
            "shape: (1, 10)\n"
          ]
        }
      ]
    },
    {
      "cell_type": "markdown",
      "source": [
        "**Пояснення**\n",
        "\n",
        "column_vector має форму shape: (10, 1) — стовпчик.\n",
        "\n",
        "Після транспонування — column_vector_t  має форму shape: (1, 10) — тобто рядковий вектор.\n",
        "\n",
        "Таким чином, транспонування \"перевертає\" вектор по діагоналі, перетворюючи стовпчик у рядок."
      ],
      "metadata": {
        "id": "0lySTuYKVuLx"
      }
    },
    {
      "cell_type": "code",
      "source": [],
      "metadata": {
        "id": "NA5gvYe_V-lq"
      },
      "execution_count": 15,
      "outputs": []
    }
  ]
}