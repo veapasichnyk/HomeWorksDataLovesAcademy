{
  "nbformat": 4,
  "nbformat_minor": 0,
  "metadata": {
    "colab": {
      "provenance": [],
      "include_colab_link": true
    },
    "kernelspec": {
      "name": "python3",
      "display_name": "Python 3"
    },
    "language_info": {
      "name": "python"
    }
  },
  "cells": [
    {
      "cell_type": "markdown",
      "metadata": {
        "id": "view-in-github",
        "colab_type": "text"
      },
      "source": [
        "<a href=\"https://colab.research.google.com/github/veapasichnyk/HomeWorksDataLovesAcademy/blob/main/%D0%9A%D0%BE%D0%BF%D1%96%D1%8F_%D0%B7%D0%B0%D0%BF%D0%B8%D1%81%D0%BD%D0%B8%D0%BA%D0%B0_%22HW_2_1_%D0%A2%D0%B5%D1%81%D1%82%D1%83%D0%B2%D0%B0%D0%BD%D0%BD%D1%8F_%D1%81%D1%82%D0%B0%D1%82_%D0%B3%D1%96%D0%BF%D0%BE%D1%82%D0%B5%D0%B7_ipynb%22.ipynb\" target=\"_parent\"><img src=\"https://colab.research.google.com/assets/colab-badge.svg\" alt=\"Open In Colab\"/></a>"
      ]
    },
    {
      "cell_type": "markdown",
      "source": [
        "В цьому ДЗ потренуємось виконувати Z-тести для тестування гіпотез в різних задачах. Для коректної імплементації та інтерпретації тестів рекоемндую переглянути спершу документацію:\n",
        "\n",
        "https://www.statsmodels.org/dev/generated/statsmodels.stats.weightstats.ztest.html"
      ],
      "metadata": {
        "id": "1cj3k3KyrGvJ"
      }
    },
    {
      "cell_type": "code",
      "source": [
        "import numpy as np\n",
        "from statsmodels.stats.weightstats import ztest\n",
        "from scipy import stats"
      ],
      "metadata": {
        "id": "sKI0spwTrKYo"
      },
      "execution_count": null,
      "outputs": []
    },
    {
      "cell_type": "markdown",
      "source": [
        "### Завдання 1: Z-тест для однієї вибірки\n",
        "\n",
        "**Мета**: Перевірити, чи середнє значення вибірки відрізняється від гіпотетичного середнього.\n",
        "\n",
        "**Припущення**: Середній ріст студентів університету вважається 170 см. Ми хочемо перевірити, чи середній ріст випадкової вибірки студентів істотно більший. Вибірка задана в змінній `heights`.\n",
        "\n",
        "Для виконання завдання імпортуйте метод для проведення `ztest`, виконайте Z-тест з Python, виведіть p-value і зробіть заключення, чи справдилось припущення про середній зріст студентів на рівні значущості 0.05?\n",
        "\n",
        "Використовуємо тут Z-тест, оскільки вибірка достатньо велика (більше 30 екземплярів) і можемо вважати, що її стандартне відхилення близьке до ст. відхилення генеральної сукупності, а значить - відоме."
      ],
      "metadata": {
        "id": "ID3uSQHkQJ2J"
      }
    },
    {
      "cell_type": "code",
      "source": [
        "heights = [174, 171, 175, 179, 170, 170, 179, 175, 169, 174, 169, 169, 173, 162, 163, 169, 166,\n",
        "           173, 167, 164, 179, 170, 172, 164, 169, 175, 169, 174, 169, 169, 173, 162, 177]"
      ],
      "metadata": {
        "id": "TUYNSCDzRE7N"
      },
      "execution_count": null,
      "outputs": []
    },
    {
      "cell_type": "code",
      "source": [
        "alpha = 0.05"
      ],
      "metadata": {
        "id": "197R887jtKfV"
      },
      "execution_count": null,
      "outputs": []
    },
    {
      "cell_type": "code",
      "source": [
        "ztest_Score, p_value = ztest(heights, value = 170)"
      ],
      "metadata": {
        "id": "uTJEZPARYMd4"
      },
      "execution_count": null,
      "outputs": []
    },
    {
      "cell_type": "code",
      "source": [
        "ztest_Score, p_value"
      ],
      "metadata": {
        "colab": {
          "base_uri": "https://localhost:8080/"
        },
        "id": "bDImy7DKs4Yp",
        "outputId": "7ded211f-0c2f-4b60-9bd6-b98d791bbc5e"
      },
      "execution_count": null,
      "outputs": [
        {
          "output_type": "execute_result",
          "data": {
            "text/plain": [
              "(np.float64(0.8482235371587619), np.float64(0.3963134914218349))"
            ]
          },
          "metadata": {},
          "execution_count": 5
        }
      ]
    },
    {
      "cell_type": "code",
      "source": [
        "if(p_value <  alpha):\n",
        "    print(\"Відхилити Н0.\")\n",
        "else:\n",
        "    print(\"Н0 не може бути відхилена.\")"
      ],
      "metadata": {
        "colab": {
          "base_uri": "https://localhost:8080/"
        },
        "id": "7EnJ5sZ5tkJT",
        "outputId": "5f3a4ca0-d97c-4e38-946f-ebb09f1e199a"
      },
      "execution_count": null,
      "outputs": [
        {
          "output_type": "stream",
          "name": "stdout",
          "text": [
            "Н0 не може бути відхилена.\n"
          ]
        }
      ]
    },
    {
      "cell_type": "markdown",
      "source": [
        "**Висновок**\n",
        "\n",
        "Середній зріст студентів з нашої вибірки не відрізняється від гіпотетичного середнього зросту всіх студентів в університеті."
      ],
      "metadata": {
        "id": "KYDMziavovJZ"
      }
    },
    {
      "cell_type": "markdown",
      "source": [
        "### Завдання 2: Z-тест для двох незалежних вибірок\n",
        "\n",
        "**Завдання 2.1.**\n",
        "\n",
        "**Мета**: Перевірити, чи існує статистична різниця між середніми оцінками двох груп студентів.\n",
        "\n",
        "**Припущення**: Група A отримала новий навчальний курс, а група B продовжувала зі стандартним курсом. Ми перевіряємо, чи є новий курс ефективнішим.\n",
        "\n",
        "Виконайте Z-тест з Python, виведіть p-value і зробіть заключення, чи справдилось припущення щодо студентів на рівні значущості 0.05?"
      ],
      "metadata": {
        "id": "ga4iKM9kQa9Q"
      }
    },
    {
      "cell_type": "code",
      "source": [
        "group_a_scores = [78.55, 72.25, 79.88, 75.  , 76.54, 74.99, 87.26, 77.93, 72.71,\n",
        "       82.11, 71.9 , 79.04, 68.2 , 71.36, 78.98, 81.69, 78.86, 77.42,\n",
        "       76.49, 70.61, 74.4 , 75.7 , 83.29, 79.72, 69.18, 79.62, 76.07,\n",
        "       74.62, 81.06, 83.15, 82.66, 73.8 , 76.45, 79.66, 82.88, 75.6 ,\n",
        "       77.07, 72.47, 72.02, 82.06]\n",
        "\n",
        "group_b_scores = [81.78, 74.64, 80.02, 76.81, 71.77, 76.81, 82.69, 74.82, 82.82,\n",
        "       61.9 , 79.11, 75.44, 73.5 , 75.46, 65.06, 73.9 , 76.79, 82.39,\n",
        "       72.41, 70.96, 72.49, 79.58, 76.64, 72.35, 77.57, 75.49, 79.84,\n",
        "       71.49, 73.36, 73.04, 67.68, 76.48, 76.31, 75.03, 73.83, 67.92,\n",
        "       72.9 , 73.29, 70.99, 74.19]"
      ],
      "metadata": {
        "id": "SngJjNBJTgBp"
      },
      "execution_count": null,
      "outputs": []
    },
    {
      "cell_type": "code",
      "source": [
        "ztest_Score, p_value = ztest(group_a_scores, group_b_scores, alternative='larger')"
      ],
      "metadata": {
        "id": "CvftCAEHYPKL"
      },
      "execution_count": null,
      "outputs": []
    },
    {
      "cell_type": "code",
      "source": [
        "ztest_Score, p_value"
      ],
      "metadata": {
        "colab": {
          "base_uri": "https://localhost:8080/"
        },
        "id": "ub5PlkmvqCxb",
        "outputId": "a4fccf75-0314-4591-f62a-09cc307c13db"
      },
      "execution_count": null,
      "outputs": [
        {
          "output_type": "execute_result",
          "data": {
            "text/plain": [
              "(np.float64(2.357354864751502), np.float64(0.009202824276264005))"
            ]
          },
          "metadata": {},
          "execution_count": 9
        }
      ]
    },
    {
      "cell_type": "markdown",
      "source": [
        "**Висновок**\n",
        "\n",
        "*   За результатами z-тесту p-value (~0.0092) набагато менше за рівень значущості (0.05), тому ми можемо відхилити Н0 (що не існує статистична різниця між середніми оцінками двох груп студентів)\n",
        "*   Приймаємо Н1 - від зміни навчального курсу існує статистична різниця між середніми оцінками двох груп студентів."
      ],
      "metadata": {
        "id": "au42QJ6yqbWg"
      }
    },
    {
      "cell_type": "markdown",
      "source": [
        "**Завдання 2.2.**\n",
        "\n",
        "\n",
        "**Мета**: Побачити, як впливає розмір вибірок на результат тесту.\n",
        "\n",
        "**Завдання**: Уявіть, що з групи А ми маємо тільки перші 5 записів, а з групи В - усі. Таке могло статись, якщо ми вже маємо результати тестів учнів за попередньою програмою, а тести за новою програмою здали наразі лише 5 учнів і ми вирішили не чекати довше.\n",
        "Виберіть перші 5 записів для групи А і проведіть t-test (для цього використовуємо наступний [метод](https://docs.scipy.org/doc/scipy/reference/generated/scipy.stats.ttest_ind.html)). Виведіть значення p-value. Зробіть висновок, який результат ви бачите щодо стат. значущості на рівні 0.05 для цього експерименту?\n",
        "\n",
        "Тут проводимо t-test оскільки одна з вибірок - дуже мала."
      ],
      "metadata": {
        "id": "zOxz2tU0VpJM"
      }
    },
    {
      "cell_type": "code",
      "source": [
        "t_test_score, p_value = stats.ttest_ind(a=group_a_scores[:5], b=group_b_scores)"
      ],
      "metadata": {
        "id": "D9znE6liYQmP"
      },
      "execution_count": null,
      "outputs": []
    },
    {
      "cell_type": "code",
      "source": [
        "t_test_score, p_value"
      ],
      "metadata": {
        "colab": {
          "base_uri": "https://localhost:8080/"
        },
        "id": "2DmHmg_7v36S",
        "outputId": "de6f6e63-9a6b-489a-8abc-1298e6430739"
      },
      "execution_count": null,
      "outputs": [
        {
          "output_type": "execute_result",
          "data": {
            "text/plain": [
              "(np.float64(0.8167951030410814), np.float64(0.4185479477535733))"
            ]
          },
          "metadata": {},
          "execution_count": 12
        }
      ]
    },
    {
      "cell_type": "markdown",
      "source": [
        "**Висновок**\n",
        "\n",
        "*   За результатами t-тесту p-value (~0.4185) більше за рівень значущості (0.05), тому ми не можемо відхилити Н0 (що не існує статистична різниця між середніми оцінками двох груп студентів)\n",
        "*   Розмір вибіроки впливає на p-value. Навіть провівши t-тестування для малої кількості записів в першій вибірці ми отримали протилежний результат до 2.1."
      ],
      "metadata": {
        "id": "JDu4M5Oov_88"
      }
    },
    {
      "cell_type": "markdown",
      "source": [
        "\n",
        "### Завдання 3\\*: Z-тест для двох **пов'язаних** вибірок\n",
        "\n",
        "**Мета**: Перевірити, чи вплинув тренінг на продуктивність працівників, коли всі справробітники проходили тренінг.\n",
        "\n",
        "**Припущення**: Наші працівники проходять однаковий тренінг, і ми хочемо з'ясувати, чи покращилися їхні показники після тренінгу на рівні значущості 0.05. Виконайте Z-тест з Python, виведіть p-value і зробіть заключення, чи поліпшились показники працівників на рівні значущості 0.05?\n",
        "\n",
        "Зверніть увагу, ці вибірки повʼязані між собою, значить не буде коректно виконати z-test між ними, натомість, ми можемо порівняти, чи різниця в результатах (продуктивності співробітників) є стат значущою."
      ],
      "metadata": {
        "id": "3TcRHLLz0SLw"
      }
    },
    {
      "cell_type": "code",
      "source": [
        "before_training = [57.82, 37.63, 36.8 , 55.22, 52.97, 52.5 , 53.46, 43.2 , 52.32,\n",
        "       52.93, 42.86, 68.66, 54.74, 38.09, 56.57, 40.25, 57.87, 61.59,\n",
        "       41.79, 59.63, 54.13, 58.22, 68.97, 47.55, 42.46, 41.1 , 41.84,\n",
        "       49.23, 53.41, 52.77]\n",
        "\n",
        "after_training = [62.47, 40.66, 42.7 , 57.69, 61.41, 56.76, 54.75, 44.06, 56.29,\n",
        "       55.48, 47.28, 72.6 , 57.59, 39.39, 56.54, 42.36, 62.58, 65.01,\n",
        "       42.3 , 62.98, 57.9 , 59.45, 72.28, 50.66, 43.18, 44.82, 45.96,\n",
        "       54.4 , 58.52, 53.01]"
      ],
      "metadata": {
        "id": "uxrjagJFW1GC"
      },
      "execution_count": null,
      "outputs": []
    },
    {
      "cell_type": "code",
      "source": [
        "differences = np.array(after_training) - np.array(before_training)"
      ],
      "metadata": {
        "id": "NwCsN91OYSpN"
      },
      "execution_count": null,
      "outputs": []
    },
    {
      "cell_type": "code",
      "source": [
        "ztest_Score, p_value = ztest(differences, value = 0, alternative='larger')"
      ],
      "metadata": {
        "id": "-H1uWiqz2y8p"
      },
      "execution_count": null,
      "outputs": []
    },
    {
      "cell_type": "code",
      "source": [
        "ztest_Score, p_value"
      ],
      "metadata": {
        "colab": {
          "base_uri": "https://localhost:8080/"
        },
        "id": "puawk9al3KP5",
        "outputId": "cd2b73ee-a87f-4123-ebc6-ea11b1ba5cdf"
      },
      "execution_count": null,
      "outputs": [
        {
          "output_type": "execute_result",
          "data": {
            "text/plain": [
              "(np.float64(9.13890009623916), np.float64(3.1545359919175505e-20))"
            ]
          },
          "metadata": {},
          "execution_count": 21
        }
      ]
    },
    {
      "cell_type": "markdown",
      "source": [
        "*   За результатами z-тесту p-value (~3.1545е-20) набагато менше за рівень значущості (0.05), тому ми можемо відхилити Н0 (що продуктивність після тренінгу не змінилась)\n",
        "*   Приймаємо Н1 - після тренінгу поліпшились показники продуктивності працівників."
      ],
      "metadata": {
        "id": "gl5SGC5H30ZM"
      }
    },
    {
      "cell_type": "code",
      "source": [],
      "metadata": {
        "id": "_QgPI4nz4_KE"
      },
      "execution_count": null,
      "outputs": []
    }
  ]
}